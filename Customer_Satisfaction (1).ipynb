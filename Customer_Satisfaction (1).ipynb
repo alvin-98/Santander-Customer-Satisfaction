{
  "nbformat": 4,
  "nbformat_minor": 0,
  "metadata": {
    "colab": {
      "name": "Customer Satisfaction.ipynb",
      "provenance": [],
      "collapsed_sections": []
    },
    "kernelspec": {
      "name": "python3",
      "display_name": "Python 3"
    },
    "language_info": {
      "name": "python"
    }
  },
  "cells": [
    {
      "cell_type": "code",
      "source": [
        "# Import libraries\n",
        "%matplotlib inline\n",
        "import math\n",
        "import numpy as np\n",
        "import pandas as pd\n",
        "import seaborn as sns\n",
        "from collections import Counter\n",
        "import matplotlib.pyplot as plt\n",
        "from sklearn.utils import shuffle\n",
        "from sklearn.linear_model import Lasso\n",
        "from sklearn.preprocessing import StandardScaler\n",
        "from sklearn.metrics import mean_squared_error\n",
        "from sklearn.linear_model import LinearRegression\n",
        "from sklearn.model_selection import cross_validate\n",
        "from sklearn.model_selection import train_test_split\n",
        "from sklearn.preprocessing import PolynomialFeatures\n",
        "from sklearn.linear_model import LogisticRegression\n",
        "from sklearn.tree import DecisionTreeClassifier\n",
        "from sklearn.model_selection import cross_val_score\n",
        "from sklearn.metrics import accuracy_score\n",
        "from sklearn.model_selection import KFold\n",
        "from sklearn.metrics import roc_auc_score\n",
        "from sklearn.metrics import roc_curve\n",
        "from sklearn.neighbors import KNeighborsClassifier\n",
        "from sklearn.preprocessing import MinMaxScaler\n",
        "sns.set()\n",
        "\n",
        "from sklearn.metrics import f1_score\n",
        "from sklearn.utils import shuffle\n",
        "from imblearn.over_sampling import SMOTE\n",
        "from scipy import stats\n",
        "\n",
        "import warnings"
      ],
      "metadata": {
        "id": "oIKrXt288m3S"
      },
      "execution_count": 246,
      "outputs": []
    },
    {
      "cell_type": "code",
      "execution_count": 247,
      "metadata": {
        "id": "N_-uyiWv5EIY"
      },
      "outputs": [],
      "source": [
        "import requests, zipfile, io\n",
        "r = requests.get(\"https://github.com/alvin-98/Santander-Customer-Satisfaction/blob/main/santander-customer-satisfaction.zip?raw=true\")\n",
        "\n",
        "z = zipfile.ZipFile(io.BytesIO(r.content))\n",
        "z.extractall()"
      ]
    },
    {
      "cell_type": "code",
      "source": [
        "#reading train and test data into respective dataframes\n",
        "df_train = pd.read_csv('train.csv')\n",
        "df_test = pd.read_csv('test.csv')"
      ],
      "metadata": {
        "id": "60i0d_HG8kB-"
      },
      "execution_count": 248,
      "outputs": []
    },
    {
      "cell_type": "code",
      "source": [
        "cols_1 = [] #can be deleted\n",
        "cols_2 = [] #categorical vars\n",
        "cols_3 = [] #categorical vars\n",
        "for col in df_train.columns:\n",
        "  n = df_train[col].nunique()\n",
        "  if n < 10:\n",
        "    # print(col, n)\n",
        "    if n == 1:\n",
        "      cols_1.append(col)\n",
        "    elif n == 2:\n",
        "      cols_2.append(col)\n",
        "    elif n == 3:\n",
        "      cols_3.append(col)"
      ],
      "metadata": {
        "id": "70twauRGYA2M"
      },
      "execution_count": 249,
      "outputs": []
    },
    {
      "cell_type": "code",
      "source": [
        "for i in range(len(cols_3)):\n",
        "  print(cols_3[i],df_train[cols_3[i]].unique())"
      ],
      "metadata": {
        "colab": {
          "base_uri": "https://localhost:8080/"
        },
        "id": "jlD4DYp9rs_8",
        "outputId": "433abd97-8cf6-49cf-8a34-4833d7adce20"
      },
      "execution_count": 250,
      "outputs": [
        {
          "output_type": "stream",
          "name": "stdout",
          "text": [
            "num_var1_0 [0 3 6]\n",
            "num_var1 [0 3 6]\n",
            "num_var8_0 [0 3 6]\n",
            "num_var13_corto_0 [0 3 6]\n",
            "num_var13_corto [0 3 6]\n",
            "num_var24 [0 3 6]\n",
            "num_var33 [0 3 6]\n",
            "num_var40_0 [0 3 6]\n",
            "num_var44_0 [0 3 6]\n",
            "saldo_var6 [    0.  11976.6 19531.8]\n",
            "saldo_var13_medio [    0 30000  9000]\n",
            "saldo_var18 [      0 3000000  300000]\n",
            "saldo_var29 [    0.  11976.6 19531.8]\n",
            "saldo_var34 [    0 36000 15000]\n",
            "delta_imp_reemb_var17_1y3 [         0 9999999999         -1]\n",
            "delta_imp_trasp_var17_in_1y3 [         0 9999999999         -1]\n",
            "delta_imp_trasp_var33_in_1y3 [         0 9999999999         -1]\n",
            "delta_num_reemb_var17_1y3 [         0 9999999999         -1]\n",
            "delta_num_trasp_var17_in_1y3 [         0 9999999999         -1]\n",
            "delta_num_trasp_var33_in_1y3 [         0 9999999999         -1]\n",
            "imp_amort_var18_ult1 [    0.   15691.8   1883.22]\n",
            "imp_amort_var34_ult1 [   0.   1096.02  276.24]\n",
            "imp_trasp_var17_in_hace3 [    0.   96781.44 45741.48]\n",
            "num_aport_var33_ult1 [0 6 3]\n",
            "num_meses_var29_ult3 [0 1 2]\n",
            "num_trasp_var17_in_hace3 [0 6 3]\n",
            "num_trasp_var33_in_ult1 [0 3 6]\n",
            "num_venta_var44_hace3 [0 3 6]\n",
            "saldo_medio_var13_medio_hace2 [   0.   7741.95 5586.21]\n",
            "saldo_medio_var13_medio_ult1 [    0 30000  9000]\n",
            "saldo_medio_var13_medio_ult3 [    0.   18870.99  7293.12]\n"
          ]
        }
      ]
    },
    {
      "cell_type": "code",
      "source": [
        "df_T = df_train.T\n",
        "df_T = pd.DataFrame(df_T)\n",
        "duplicated_predictors = df_T.duplicated()\n",
        "duplicated_predictors = list(df_train.columns[list(duplicated_predictors)])\n",
        "print('duplicated_predictors', duplicated_predictors)\n",
        "print(\"Number of predictors with duplicacy is\", len(duplicated_predictors))"
      ],
      "metadata": {
        "colab": {
          "base_uri": "https://localhost:8080/"
        },
        "id": "t25dhtFdBbvx",
        "outputId": "2d246661-20d3-4709-e783-2f865e30471e"
      },
      "execution_count": 251,
      "outputs": [
        {
          "output_type": "stream",
          "name": "stdout",
          "text": [
            "duplicated_predictors ['ind_var2', 'ind_var13_medio', 'ind_var18', 'ind_var26', 'ind_var25', 'ind_var27_0', 'ind_var28_0', 'ind_var28', 'ind_var27', 'ind_var29_0', 'ind_var29', 'ind_var32', 'ind_var34', 'ind_var37', 'ind_var41', 'ind_var39', 'ind_var46_0', 'ind_var46', 'num_var13_medio', 'num_var18', 'num_var26', 'num_var25', 'num_var27_0', 'num_var28_0', 'num_var28', 'num_var27', 'num_var29_0', 'num_var29', 'num_var32', 'num_var34', 'num_var37', 'num_var41', 'num_var39', 'num_var46_0', 'num_var46', 'saldo_var28', 'saldo_var27', 'saldo_var29', 'saldo_var41', 'saldo_var46', 'delta_num_reemb_var13_1y3', 'delta_num_reemb_var17_1y3', 'delta_num_reemb_var33_1y3', 'delta_num_trasp_var17_in_1y3', 'delta_num_trasp_var17_out_1y3', 'delta_num_trasp_var33_in_1y3', 'delta_num_trasp_var33_out_1y3', 'imp_amort_var18_hace3', 'imp_amort_var34_hace3', 'imp_reemb_var13_hace3', 'imp_reemb_var33_hace3', 'imp_trasp_var17_out_hace3', 'imp_trasp_var33_out_hace3', 'num_var2_0_ult1', 'num_var2_ult1', 'num_reemb_var13_hace3', 'num_reemb_var33_hace3', 'num_trasp_var17_out_hace3', 'num_trasp_var33_out_hace3', 'saldo_var2_ult1', 'saldo_medio_var13_medio_hace3', 'saldo_medio_var13_medio_ult1']\n",
            "Number of predictors with duplicacy is 62\n"
          ]
        }
      ]
    },
    {
      "cell_type": "code",
      "source": [
        "cor_threshold = 0.95\n",
        "matrix = df_train.corr().abs()\n",
        "\n",
        "selected = matrix.where(np.triu(np.ones(matrix.shape),k=1).astype(np.bool))\n",
        "correlated_predictors = [i for i in selected.columns if any(selected[i] >= cor_threshold)]\n",
        "\n",
        "print(\"Number of predictors based on correlation is\", len(correlated_predictors))"
      ],
      "metadata": {
        "colab": {
          "base_uri": "https://localhost:8080/"
        },
        "id": "fIC4UQnbBgK-",
        "outputId": "8589c846-e091-4962-bbc0-f3f0f21d1152"
      },
      "execution_count": 252,
      "outputs": [
        {
          "output_type": "stream",
          "name": "stdout",
          "text": [
            "Number of predictors based on correlation is 130\n"
          ]
        }
      ]
    },
    {
      "cell_type": "code",
      "source": [
        "# pval_threshold = 0.0001\n",
        "# pval_predictors = []\n",
        "\n",
        "# for col in df_train.columns:\n",
        "#     pval = list(stats.ttest_ind(df_train[col], df_train['TARGET'], equal_var=False))[1]\n",
        "#     if pval >= pval_threshold:\n",
        "#         pval_predictors.append(col)\n",
        "        \n",
        "# print(\"Number of predictors based on pval is\", len(pval_predictors))"
      ],
      "metadata": {
        "id": "t-Y57r52BePm"
      },
      "execution_count": 253,
      "outputs": []
    },
    {
      "cell_type": "code",
      "source": [
        "to_be_dropped = [\n",
        "    \"ID\", #it is an unique value for every entry in the data\n",
        "]\n",
        "response = 'TARGET'\n",
        "\n",
        "to_be_dropped = to_be_dropped + duplicated_predictors + correlated_predictors + cols_1\n",
        "\n",
        "final_drop = []\n",
        "\n",
        "for col in to_be_dropped:\n",
        "    if (col not in final_drop) and (col != response):\n",
        "        final_drop.append(col)"
      ],
      "metadata": {
        "id": "0jn3ngnQWA33"
      },
      "execution_count": 254,
      "outputs": []
    },
    {
      "cell_type": "code",
      "source": [
        "len(final_drop)"
      ],
      "metadata": {
        "colab": {
          "base_uri": "https://localhost:8080/"
        },
        "id": "BwWTihAchYuq",
        "outputId": "e536ac5e-3fb3-4698-8c59-ddb036bc4c6f"
      },
      "execution_count": 255,
      "outputs": [
        {
          "output_type": "execute_result",
          "data": {
            "text/plain": [
              "165"
            ]
          },
          "metadata": {},
          "execution_count": 255
        }
      ]
    },
    {
      "cell_type": "code",
      "source": [
        "def dropping_cols(df, cols=final_drop):\n",
        "    df = df.drop(cols, axis=1)\n",
        "    return df\n",
        "\n",
        "df_train = dropping_cols(df_train)\n",
        "df_test = dropping_cols(df_test)"
      ],
      "metadata": {
        "id": "nlkVhr_rsqo6"
      },
      "execution_count": 256,
      "outputs": []
    },
    {
      "cell_type": "code",
      "source": [
        "# ##lets try to up and down sample the data\n",
        "# from sklearn.utils import resample\n",
        "\n",
        "# df_train_1 = df_train[df_train['TARGET']==1]\n",
        "# df_train_0 = df_train[df_train['TARGET']==0]\n",
        "\n",
        "# n_samples = 4000\n",
        "\n",
        "# df_train_1_upsampled = resample(df_train_1, replace=True, n_samples=n_samples)\n",
        "# df_train_0_downsampled = resample(df_train_0, replace=False, n_samples=n_samples)\n",
        "\n",
        "# df_train_up_down_sampled = pd.concat([df_train_0_downsampled, df_train_1_upsampled])"
      ],
      "metadata": {
        "id": "DA2QcgSsCVxr"
      },
      "execution_count": 257,
      "outputs": []
    },
    {
      "cell_type": "code",
      "source": [
        "# #separting predictors and response variables\n",
        "# x_train_og = df_train_up_down_sampled.drop('TARGET', axis=1)\n",
        "# y_train_og = df_train_up_down_sampled['TARGET']\n",
        "\n",
        "# x_train, x_val ,y_train, y_val = train_test_split(x_train_og, y_train_og , test_size=0.2,random_state=10)"
      ],
      "metadata": {
        "id": "1fjKV8y8I2cD"
      },
      "execution_count": 258,
      "outputs": []
    },
    {
      "cell_type": "code",
      "source": [
        "method = SMOTE(sampling_strategy=\"minority\")\n",
        "\n",
        "x_train = df_train.drop('TARGET', axis=1)\n",
        "y_train = df_train['TARGET']\n",
        "\n",
        "x_train, y_train = method.fit_resample(x_train, y_train)"
      ],
      "metadata": {
        "id": "Q7-CvRkjtN5c"
      },
      "execution_count": 259,
      "outputs": []
    },
    {
      "cell_type": "code",
      "source": [
        "#separting predictors and response variables\n",
        "# x_train_og = df_train.drop('TARGET', axis=1)\n",
        "# y_train_og = df_train['TARGET']\n",
        "\n",
        "x_train, x_val ,y_train, y_val = train_test_split(x_train, y_train , test_size=0.2,random_state=10)"
      ],
      "metadata": {
        "id": "0CQW15QTv38R"
      },
      "execution_count": 260,
      "outputs": []
    },
    {
      "cell_type": "code",
      "source": [
        "scaler = MinMaxScaler()\n",
        "scaler.fit_transform(x_train)\n",
        "scaler.fit_transform(x_val)\n",
        "\n",
        "scaler.fit_transform(df_test)"
      ],
      "metadata": {
        "colab": {
          "base_uri": "https://localhost:8080/"
        },
        "id": "a1SE1BZIS7NR",
        "outputId": "4c6eab47-8041-4fc9-fc9c-0cc559fb40f5"
      },
      "execution_count": 261,
      "outputs": [
        {
          "output_type": "execute_result",
          "data": {
            "text/plain": [
              "array([[0.99976406, 0.27      , 0.        , ..., 0.        , 0.        ,\n",
              "        0.0013612 ],\n",
              "       [0.99976406, 0.3       , 0.        , ..., 0.        , 0.        ,\n",
              "        0.00153268],\n",
              "       [0.99976406, 0.18      , 0.        , ..., 0.        , 0.        ,\n",
              "        0.00158484],\n",
              "       ...,\n",
              "       [0.99976406, 0.19      , 0.        , ..., 0.        , 0.        ,\n",
              "        0.00574866],\n",
              "       [0.99976406, 0.35      , 0.        , ..., 0.        , 0.        ,\n",
              "        0.00401853],\n",
              "       [0.99976406, 0.18      , 0.        , ..., 0.        , 0.        ,\n",
              "        0.00401853]])"
            ]
          },
          "metadata": {},
          "execution_count": 261
        }
      ]
    },
    {
      "cell_type": "code",
      "source": [
        "#df_train.info(verbose=True, show_counts=True)\n",
        "#there are no null values in the dataset and all columns are either of int or float datatype"
      ],
      "metadata": {
        "id": "3Q8kPUIl8z5V"
      },
      "execution_count": 262,
      "outputs": []
    },
    {
      "cell_type": "code",
      "source": [
        "#the data is highly imbalanced with the dominant class being class 0 (customer satisfied)\n",
        "##this means that the accuracy of the model is not a good estimate of model performance\n",
        "print('1:',len(y_train[y_train==1]),'0:',len(y_train[y_train==0]))"
      ],
      "metadata": {
        "colab": {
          "base_uri": "https://localhost:8080/"
        },
        "id": "61yDTVzA_OWi",
        "outputId": "9de839f8-0e07-4fff-864f-0304a7c6e7dd"
      },
      "execution_count": 263,
      "outputs": [
        {
          "output_type": "stream",
          "name": "stdout",
          "text": [
            "1: 58299 0: 58520\n"
          ]
        }
      ]
    },
    {
      "cell_type": "code",
      "source": [
        "# y_true = pd.read_csv('submission.csv')\n",
        "# y_true = y_true['TARGET']\n",
        "# y_new_true = (y_true>0.5)*1"
      ],
      "metadata": {
        "id": "pQq8fTIs4uEV"
      },
      "execution_count": 264,
      "outputs": []
    },
    {
      "cell_type": "code",
      "source": [
        "random_forest = RandomForestClassifier(n_estimators=100,max_depth=5)\n",
        "random_forest.fit(x_train,y_train)\n",
        "feat_imp = random_forest.feature_importances_\n",
        "feat_names = x_train.columns\n",
        "feat_imp_dict = dict(zip(feat_names,feat_imp))\n",
        "feat_imp_dict = {k: v for k, v in sorted(feat_imp_dict.items(), key=lambda item: item[1], reverse=True)}\n",
        "ind = 20\n",
        "top_vals = [el for i,el in enumerate(feat_imp_dict.values()) if i<ind]\n",
        "top_cols = [el for i,el in enumerate(feat_imp_dict.keys()) if i<ind]\n",
        "\n",
        "x_train = x_train[top_cols]\n",
        "x_val = x_val[top_cols]"
      ],
      "metadata": {
        "id": "CgiHFlyql26j"
      },
      "execution_count": 265,
      "outputs": []
    },
    {
      "cell_type": "code",
      "source": [
        "#building a logistic regression model with all predictors\n",
        "logreg = LogisticRegression(max_iter = 20000, C = 100000)\n",
        "\n",
        "logreg.fit(x_train, y_train)\n",
        "cval = cross_validate(logreg, x_train, y_train, scoring='accuracy', cv=10)\n",
        "print(np.mean(cval['test_score']))"
      ],
      "metadata": {
        "colab": {
          "base_uri": "https://localhost:8080/"
        },
        "id": "hfhIBNpX-ztO",
        "outputId": "ee429b27-0988-4ec0-b341-30188a10fede"
      },
      "execution_count": 266,
      "outputs": [
        {
          "output_type": "stream",
          "name": "stdout",
          "text": [
            "0.7507683772937793\n"
          ]
        }
      ]
    },
    {
      "cell_type": "code",
      "source": [
        "def roc(model, predictor, response):\n",
        "  y_pred_proba = model.predict_proba(predictor)\n",
        "  y_pred = model.predict(predictor)\n",
        "  fpr, tpr, threshold = roc_curve(response, y_pred_proba[:,1])\n",
        "  plt.plot(fpr, tpr)\n",
        "  plt.plot([0,1], [0,1])\n",
        "  print('accuracy score:',accuracy_score(response, y_pred))\n",
        "  print('roc_auc_score',roc_auc_score(response, y_pred_proba[:,1]))\n",
        "  plt.show()"
      ],
      "metadata": {
        "id": "mDeHH5HmCjAI"
      },
      "execution_count": 267,
      "outputs": []
    },
    {
      "cell_type": "code",
      "source": [
        "roc(logreg, x_val, y_val)"
      ],
      "metadata": {
        "colab": {
          "base_uri": "https://localhost:8080/",
          "height": 305
        },
        "id": "uxp9AQ4KK_3k",
        "outputId": "c50a001a-c0de-482c-a187-9d2ee29cfb49"
      },
      "execution_count": 268,
      "outputs": [
        {
          "output_type": "stream",
          "name": "stdout",
          "text": [
            "accuracy score: 0.7651771956856702\n",
            "roc_auc_score 0.848678974540551\n"
          ]
        },
        {
          "output_type": "display_data",
          "data": {
            "image/png": "[encoded data removed]",
            "text/plain": [
              "<Figure size 432x288 with 1 Axes>"
            ]
          },
          "metadata": {}
        }
      ]
    },
    {
      "cell_type": "code",
      "source": [
        "depths = np.linspace(2, 12, 11)\n",
        "cv_list = []\n",
        "for d in depths:\n",
        "  dt = DecisionTreeClassifier(max_depth=d)\n",
        "  cval = cross_validate(dt, x_train, y_train, scoring='accuracy', cv=10)\n",
        "  cv_list.append(np.mean(cval['test_score']))\n"
      ],
      "metadata": {
        "id": "4km585IcLjCO"
      },
      "execution_count": 269,
      "outputs": []
    },
    {
      "cell_type": "code",
      "source": [
        "best_d = depths[cv_list.index(max(cv_list))]"
      ],
      "metadata": {
        "id": "PfWNPwapMIXl"
      },
      "execution_count": 270,
      "outputs": []
    },
    {
      "cell_type": "code",
      "source": [
        "best_dt = DecisionTreeClassifier(max_depth=best_d)\n",
        "best_dt.fit(x_train, y_train)\n",
        "roc(best_dt, x_val, y_val)"
      ],
      "metadata": {
        "colab": {
          "base_uri": "https://localhost:8080/",
          "height": 305
        },
        "id": "XMiNiwOnMPLL",
        "outputId": "6ff5bee1-6e4d-4c8a-9bc2-40fc9bdd9e97"
      },
      "execution_count": 271,
      "outputs": [
        {
          "output_type": "stream",
          "name": "stdout",
          "text": [
            "accuracy score: 0.8876562232494436\n",
            "roc_auc_score 0.953780676252611\n"
          ]
        },
        {
          "output_type": "display_data",
          "data": {
            "image/png": "[encoded data removed]",
            "text/plain": [
              "<Figure size 432x288 with 1 Axes>"
            ]
          },
          "metadata": {}
        }
      ]
    },
    {
      "cell_type": "code",
      "source": [
        "klist = np.linspace(2,24,23)\n",
        "cv_list = []\n",
        "for k in klist:\n",
        "  knn = KNeighborsClassifier(n_neighbors = k)\n",
        "  cval = cross_validate(dt, x_train, y_train, scoring='accuracy', cv=10)\n",
        "  cv_list.append(np.mean(cval['test_score']))"
      ],
      "metadata": {
        "id": "x1a_audCNT7d"
      },
      "execution_count": 272,
      "outputs": []
    },
    {
      "cell_type": "code",
      "source": [
        "best_k = klist[cv_list.index(max(cv_list))]\n",
        "best_k"
      ],
      "metadata": {
        "colab": {
          "base_uri": "https://localhost:8080/"
        },
        "id": "yZiRbMTeN5uj",
        "outputId": "fb4de291-be20-4d1e-8f64-633a4987329c"
      },
      "execution_count": 273,
      "outputs": [
        {
          "output_type": "execute_result",
          "data": {
            "text/plain": [
              "24.0"
            ]
          },
          "metadata": {},
          "execution_count": 273
        }
      ]
    },
    {
      "cell_type": "code",
      "source": [
        "best_knn = KNeighborsClassifier(n_neighbors = int(best_k))\n",
        "best_knn.fit(x_train, y_train)\n",
        "roc(best_knn, x_val, y_val)"
      ],
      "metadata": {
        "colab": {
          "base_uri": "https://localhost:8080/",
          "height": 305
        },
        "id": "GJvibd8oN-FC",
        "outputId": "03665c32-c2cc-4c6e-8458-7db2df8c08b7"
      },
      "execution_count": 274,
      "outputs": [
        {
          "output_type": "stream",
          "name": "stdout",
          "text": [
            "accuracy score: 0.838828967642527\n",
            "roc_auc_score 0.9149956930092317\n"
          ]
        },
        {
          "output_type": "display_data",
          "data": {
            "image/png": "[encoded data removed]",
            "text/plain": [
              "<Figure size 432x288 with 1 Axes>"
            ]
          },
          "metadata": {}
        }
      ]
    },
    {
      "cell_type": "code",
      "source": [
        "from sklearn.ensemble import BaggingClassifier\n",
        "\n",
        "bg = BaggingClassifier(best_dt, random_state=10, n_estimators=50, bootstrap_features=True)\n",
        "bg.fit(x_train, y_train)\n",
        "roc(bg, x_val, y_val)"
      ],
      "metadata": {
        "colab": {
          "base_uri": "https://localhost:8080/",
          "height": 305
        },
        "id": "ZQ8LGg79un9k",
        "outputId": "1bc737af-b5b6-46f0-e266-735a771ffb6c"
      },
      "execution_count": 275,
      "outputs": [
        {
          "output_type": "stream",
          "name": "stdout",
          "text": [
            "accuracy score: 0.9000171203561034\n",
            "roc_auc_score 0.9634245291908581\n"
          ]
        },
        {
          "output_type": "display_data",
          "data": {
            "image/png": "[encoded data removed]",
            "text/plain": [
              "<Figure size 432x288 with 1 Axes>"
            ]
          },
          "metadata": {}
        }
      ]
    },
    {
      "cell_type": "code",
      "source": [
        "from sklearn.ensemble import RandomForestClassifier\n",
        "\n",
        "depths = np.linspace(2, 24, 23)\n",
        "cv_list = []\n",
        "for d in depths:\n",
        "  rf = RandomForestClassifier(max_depth=d, random_state=10)\n",
        "  cval = cross_validate(rf, x_train, y_train, scoring='accuracy', cv=10)\n",
        "  cv_list.append(np.mean(cval['test_score']))\n",
        "\n",
        "best_d = depths[cv_list.index(max(cv_list))]\n",
        "\n",
        "rf = RandomForestClassifier(max_depth=best_d, random_state=10)\n",
        "rf.fit(x_train, y_train)\n",
        "roc(rf, x_val, y_val)"
      ],
      "metadata": {
        "colab": {
          "base_uri": "https://localhost:8080/",
          "height": 305
        },
        "id": "ydncoelZyi3N",
        "outputId": "3cb7390d-4c5e-4727-e911-3ca18722b49a"
      },
      "execution_count": 276,
      "outputs": [
        {
          "output_type": "stream",
          "name": "stdout",
          "text": [
            "accuracy score: 0.9173771614449581\n",
            "roc_auc_score 0.9732186582775914\n"
          ]
        },
        {
          "output_type": "display_data",
          "data": {
            "image/png": "[encoded data removed]",
            "text/plain": [
              "<Figure size 432x288 with 1 Axes>"
            ]
          },
          "metadata": {}
        }
      ]
    },
    {
      "cell_type": "code",
      "source": [
        "from sklearn.ensemble import GradientBoostingClassifier\n",
        "\n",
        "depths = np.linspace(2, 12, 11)\n",
        "cv_list = []\n",
        "for d in depths:\n",
        "  gb = GradientBoostingClassifier(n_estimators=100, learning_rate=0.01, max_depth=d, random_state=10)\n",
        "  cval = cross_validate(gb, x_train, y_train, scoring='accuracy', cv=10)\n",
        "  cv_list.append(np.mean(cval['test_score']))\n",
        "\n",
        "best_d = depths[cv_list.index(max(cv_list))]\n",
        "\n",
        "gb = GradientBoostingClassifier(n_estimators=100, learning_rate=0.01, max_depth=best_d, random_state=10)\n",
        "\n",
        "gb.fit(x_train, y_train)\n",
        "\n",
        "roc(gb, x_val, y_val)"
      ],
      "metadata": {
        "colab": {
          "base_uri": "https://localhost:8080/",
          "height": 305
        },
        "id": "XqYPZmJ20P29",
        "outputId": "fa222d9c-6912-424f-a3d0-7d68ea255fb6"
      },
      "execution_count": 278,
      "outputs": [
        {
          "output_type": "stream",
          "name": "stdout",
          "text": [
            "accuracy score: 0.9010785824345147\n",
            "roc_auc_score 0.9651330468722197\n"
          ]
        },
        {
          "output_type": "display_data",
          "data": {
            "image/png": "[encoded data removed]",
            "text/plain": [
              "<Figure size 432x288 with 1 Axes>"
            ]
          },
          "metadata": {}
        }
      ]
    }
  ]
}